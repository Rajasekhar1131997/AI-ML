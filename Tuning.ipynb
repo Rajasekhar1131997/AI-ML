{
 "cells": [
  {
   "cell_type": "code",
   "execution_count": null,
   "id": "422bb691",
   "metadata": {},
   "outputs": [],
   "source": [
    "# Let's perform Hyperparameter tuning using GridSearchCV for Random Forest Classifier\n",
    "# Importing necessary libraries\n",
    "\n",
    "from sklearn.ensemble import RandomForestClassifier\n",
    "from sklearn.model_selection import GridSearchCV\n",
    "\n"
   ]
  }
 ],
 "metadata": {
  "language_info": {
   "name": "python"
  }
 },
 "nbformat": 4,
 "nbformat_minor": 5
}
